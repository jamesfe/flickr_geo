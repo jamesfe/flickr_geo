{
 "metadata": {
  "name": "",
  "signature": "sha256:c5794c49048c3ebbc4100e20a7c9415659c71666e1a576bf4c618b85f80b82c7"
 },
 "nbformat": 3,
 "nbformat_minor": 0,
 "worksheets": [
  {
   "cells": [
    {
     "cell_type": "code",
     "collapsed": false,
     "input": [
      "import fiona\n",
      "from shapely.geometry import Point, shape"
     ],
     "language": "python",
     "metadata": {},
     "outputs": [],
     "prompt_number": 10
    },
    {
     "cell_type": "code",
     "collapsed": false,
     "input": [
      "c = fiona.open('./src/shp/nybb_wgs84.shp', 'r')"
     ],
     "language": "python",
     "metadata": {},
     "outputs": [],
     "prompt_number": 2
    },
    {
     "cell_type": "code",
     "collapsed": false,
     "input": [],
     "language": "python",
     "metadata": {},
     "outputs": [],
     "prompt_number": 3
    },
    {
     "cell_type": "code",
     "collapsed": false,
     "input": [
      "manhattan_pt = Point(-73.969231,40.7590615)"
     ],
     "language": "python",
     "metadata": {},
     "outputs": [],
     "prompt_number": 4
    },
    {
     "cell_type": "code",
     "collapsed": false,
     "input": [
      "# b = Polygon([(1,0), (0,0), (1,1)])\n",
      "# print c[0]['geometry'].keys()\n",
      "geoms = list()\n",
      "for p in c:\n",
      "    r = shape(p['geometry'])\n",
      "    adder = [r, p['properties']['BoroName']]\n",
      "    geoms.append(adder)\n"
     ],
     "language": "python",
     "metadata": {},
     "outputs": [],
     "prompt_number": 7
    },
    {
     "cell_type": "code",
     "collapsed": false,
     "input": [
      "for k in geoms:\n",
      "    print manhattan_pt.intersects(k[0]), k[1]"
     ],
     "language": "python",
     "metadata": {},
     "outputs": [
      {
       "output_type": "stream",
       "stream": "stdout",
       "text": [
        "False Staten Island\n",
        "True Manhattan\n",
        "False Bronx\n",
        "False Brooklyn\n",
        "False Queens\n"
       ]
      }
     ],
     "prompt_number": 8
    },
    {
     "cell_type": "code",
     "collapsed": false,
     "input": [
      "boroughs = fiona.open('./src/shp/nybb_wgs84.shp', 'r')\n",
      "geoms = list()\n",
      "for item in boroughs:\n",
      "    shply_shape = shape(item['geometry'])\n",
      "    adder = [shply_shape, item['properties']['BoroName']]\n",
      "    geoms.append(adder)"
     ],
     "language": "python",
     "metadata": {},
     "outputs": [],
     "prompt_number": 13
    },
    {
     "cell_type": "code",
     "collapsed": false,
     "input": [
      "tgt_point = Point(-74.004172, 40.742169)\n",
      "new_val = []\n",
      "for index, geo in enumerate(geoms):\n",
      "    print index,geo\n",
      "    if tgt_point.intersects(geo[0]):\n",
      "        new_val.append(index)\n"
     ],
     "language": "python",
     "metadata": {},
     "outputs": [
      {
       "output_type": "stream",
       "stream": "stdout",
       "text": [
        "0 [<shapely.geometry.multipolygon.MultiPolygon object at 0x10eacf950>, u'Staten Island']\n",
        "1 [<shapely.geometry.multipolygon.MultiPolygon object at 0x10e707610>, u'Manhattan']\n",
        "2 [<shapely.geometry.multipolygon.MultiPolygon object at 0x10eacfa90>, u'Bronx']\n",
        "3 [<shapely.geometry.multipolygon.MultiPolygon object at 0x10eacfa10>, u'Brooklyn']\n",
        "4 [<shapely.geometry.multipolygon.MultiPolygon object at 0x10eacf850>, u'Queens']\n"
       ]
      }
     ],
     "prompt_number": 18
    },
    {
     "cell_type": "code",
     "collapsed": false,
     "input": [
      "%timeit tgt_point.intersects(geoms[0][0])"
     ],
     "language": "python",
     "metadata": {},
     "outputs": [
      {
       "output_type": "stream",
       "stream": "stdout",
       "text": [
        "100000 loops, best of 3: 5.27 \u00b5s per loop\n"
       ]
      }
     ],
     "prompt_number": 19
    },
    {
     "cell_type": "code",
     "collapsed": false,
     "input": [
      "%timeit 1 == 4"
     ],
     "language": "python",
     "metadata": {},
     "outputs": [
      {
       "output_type": "stream",
       "stream": "stdout",
       "text": [
        "10000000 loops, best of 3: 32.5 ns per loop\n"
       ]
      }
     ],
     "prompt_number": 21
    },
    {
     "cell_type": "code",
     "collapsed": false,
     "input": [],
     "language": "python",
     "metadata": {},
     "outputs": []
    }
   ],
   "metadata": {}
  }
 ]
}